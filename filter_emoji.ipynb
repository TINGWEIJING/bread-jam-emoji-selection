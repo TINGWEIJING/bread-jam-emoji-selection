{
 "cells": [
  {
   "cell_type": "code",
   "execution_count": 1,
   "metadata": {},
   "outputs": [],
   "source": [
    "from pathlib import Path\n",
    "import json\n",
    "from pprint import pprint"
   ]
  },
  {
   "cell_type": "code",
   "execution_count": 5,
   "metadata": {},
   "outputs": [],
   "source": [
    "with open(Path.cwd() / 'categories.json') as f:\n",
    "    emoji_categories: dict = json.load(f)\n",
    "\n",
    "filtered_emojis =[]\n",
    "\n",
    "emojis: dict = emoji_categories.get('emojis')\n",
    "for category, subcategory_list in emojis.items():\n",
    "    if category == 'Flags':\n",
    "        continue\n",
    "    for subcategory, emoji_list in subcategory_list.items():\n",
    "        # print(subcategory)\n",
    "        filtered_emojis.append(subcategory)\n",
    "        for emoji_info in emoji_list:\n",
    "            emoji = emoji_info.get('emoji')\n",
    "            support = emoji_info.get('support')\n",
    "            isWindowsSupported = support.get('windows')\n",
    "            # if (isWindowsSupported):\n",
    "            filtered_emojis.append(emoji)"
   ]
  },
  {
   "cell_type": "code",
   "execution_count": 6,
   "metadata": {},
   "outputs": [],
   "source": [
    "with open(Path.cwd() / 'filtered_emojis.json', 'w', encoding='utf-8') as f:\n",
    "    json.dump(filtered_emojis, f, indent=4, ensure_ascii=False)"
   ]
  },
  {
   "cell_type": "code",
   "execution_count": 6,
   "metadata": {},
   "outputs": [],
   "source": [
    "with open(Path.cwd() / 'filtered_emojis.txt', 'w', encoding='utf-8') as f:\n",
    "    for emoji in filtered_emojis:\n",
    "        f.write('\"' + emoji + '\"')\n",
    "        f.write('\\n')"
   ]
  }
 ],
 "metadata": {
  "kernelspec": {
   "display_name": "venv",
   "language": "python",
   "name": "python3"
  },
  "language_info": {
   "codemirror_mode": {
    "name": "ipython",
    "version": 3
   },
   "file_extension": ".py",
   "mimetype": "text/x-python",
   "name": "python",
   "nbconvert_exporter": "python",
   "pygments_lexer": "ipython3",
   "version": "3.10.13"
  }
 },
 "nbformat": 4,
 "nbformat_minor": 2
}
